{
 "cells": [
  {
   "cell_type": "markdown",
   "source": [
    "# Example Seed Data"
   ],
   "metadata": {
    "collapsed": false
   },
   "id": "1f1a14bb92352c44"
  },
  {
   "cell_type": "code",
   "execution_count": 1,
   "outputs": [],
   "source": [
    "import pandas as pd"
   ],
   "metadata": {
    "collapsed": false,
    "ExecuteTime": {
     "end_time": "2024-05-14T13:34:48.167027Z",
     "start_time": "2024-05-14T13:34:47.873459Z"
    }
   },
   "id": "73cea7e8ec5976ca"
  },
  {
   "cell_type": "code",
   "execution_count": 2,
   "outputs": [
    {
     "name": "stdout",
     "output_type": "stream",
     "text": [
      "Stored 'df_condition_occurrence' (DataFrame)\n",
      "Stored 'df_drug_exposure' (DataFrame)\n",
      "Stored 'df_procedure' (DataFrame)\n",
      "Stored 'df_concept' (DataFrame)\n",
      "Stored 'df_person' (DataFrame)\n"
     ]
    }
   ],
   "source": [
    "df_condition_occurrence = pd.read_csv('../data/condition_occurence.csv')\n",
    "df_condition_occurrence['condition_start_date'] = pd.to_datetime(df_condition_occurrence['condition_start_date'], errors='coerce', format='mixed')\n",
    "%store df_condition_occurrence\n",
    "\n",
    "df_drug_exposure = pd.read_csv('../data/drug_exposure.csv')\n",
    "df_drug_exposure['drug_exposure_start_date'] = pd.to_datetime(df_drug_exposure['drug_exposure_start_date'], errors='coerce', format='mixed')\n",
    "%store df_drug_exposure\n",
    "\n",
    "df_procedure = pd.read_csv('../data/procedure_occurrence.csv')\n",
    "df_procedure['procedure_date'] = pd.to_datetime(df_procedure['procedure_date'], errors='coerce', format='mixed')\n",
    "%store df_procedure\n",
    "\n",
    "df_concept = pd.read_csv('../data/concept.csv')\n",
    "%store df_concept\n",
    "\n",
    "df_person = pd.read_csv('../data/person.csv')\n",
    "df_person['birth_datetime'] = pd.to_datetime(df_person['birth_datetime'], errors='coerce', format='mixed')\n",
    "%store df_person"
   ],
   "metadata": {
    "collapsed": false,
    "ExecuteTime": {
     "end_time": "2024-05-14T13:34:48.189374Z",
     "start_time": "2024-05-14T13:34:48.171902Z"
    }
   },
   "id": "a49e8c35a2fbcf65"
  }
 ],
 "metadata": {
  "kernelspec": {
   "display_name": "Python 3",
   "language": "python",
   "name": "python3"
  },
  "language_info": {
   "codemirror_mode": {
    "name": "ipython",
    "version": 2
   },
   "file_extension": ".py",
   "mimetype": "text/x-python",
   "name": "python",
   "nbconvert_exporter": "python",
   "pygments_lexer": "ipython2",
   "version": "2.7.6"
  }
 },
 "nbformat": 4,
 "nbformat_minor": 5
}
