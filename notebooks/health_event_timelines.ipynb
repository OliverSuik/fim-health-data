{
 "cells": [
  {
   "cell_type": "markdown",
   "source": [
    "## Healh event timelines\n",
    "\n",
    "Contains one function:\n",
    "- plot_initial_and_generalised_view: plots health event timelines of the person with given person_id\n",
    "\n",
    "Usage:\n",
    "- uncomment function\n",
    "- set value for person_id parameter\n",
    "- run cells"
   ],
   "metadata": {
    "collapsed": false
   },
   "id": "a5e2c559203da58c"
  },
  {
   "cell_type": "code",
   "execution_count": null,
   "id": "initial_id",
   "metadata": {
    "collapsed": true
   },
   "outputs": [],
   "source": [
    "import pandas as pd\n",
    "import matplotlib.pyplot as plt\n",
    "import os\n",
    "\n",
    "# Received from the corresponding OMOP format database tables\n",
    "%store -r df_person # person\n",
    "%store -r df_condition_occurrence # condition_occurrence\n",
    "%store -r df_drug_exposure # drug_exposure\n",
    "%store -r df_concept # concept\n",
    "%store -r df_procedure # procedure_occurrence\n",
    "\n",
    "# Received from fim_impl.ipynb\n",
    "%store -r generalized_timeline"
   ]
  },
  {
   "cell_type": "code",
   "execution_count": null,
   "outputs": [],
   "source": [
    "# ID of person to be plotted\n",
    "person_id = 5\n",
    "\n",
    "# plot_initial_and_generalised_view(person_id)"
   ],
   "metadata": {
    "collapsed": false
   },
   "id": "ea02a64d4a366ec4"
  },
  {
   "cell_type": "code",
   "execution_count": null,
   "outputs": [],
   "source": [
    "def get_person_dataset(person_id):\n",
    "    condition_occurrence_dataset = df_condition_occurrence[df_condition_occurrence['person_id'] == person_id]\n",
    "    drug_exposure_dataset = df_drug_exposure[df_drug_exposure['person_id'] == person_id]\n",
    "    procedure_dataset = df_procedure[df_procedure['person_id'] == person_id]\n",
    "    \n",
    "    drug_exposure_dataset = drug_exposure_dataset.rename(columns={\n",
    "        'person_id': 'person_id',\n",
    "        'drug_concept_id': 'concept_id',\n",
    "        'drug_exposure_start_date': 'start_datetime'\n",
    "    })\n",
    "    \n",
    "    condition_occurrence_dataset = condition_occurrence_dataset.rename(columns={\n",
    "        'person_id': 'person_id',\n",
    "        'condition_concept_id': 'concept_id',\n",
    "        'condition_start_date': 'start_datetime'\n",
    "    })\n",
    "    \n",
    "    procedure_dataset = procedure_dataset.rename(columns={\n",
    "        'person_id': 'person_id',\n",
    "        'procedure_concept_id': 'concept_id',\n",
    "        'procedure_date': 'start_datetime'\n",
    "    })\n",
    "    \n",
    "    df_medical_data = pd.concat([\n",
    "        drug_exposure_dataset[['person_id', 'concept_id', 'start_datetime']],\n",
    "        procedure_dataset[['person_id', 'concept_id', 'start_datetime']],\n",
    "        condition_occurrence_dataset[['person_id', 'concept_id', 'start_datetime']]\n",
    "    ], ignore_index=True)\n",
    "    \n",
    "    df_medical_data['source_value'] = df_medical_data.apply(lambda row: get_medical_label_by_concept_id(row['concept_id']), axis=1)\n",
    "    person_df = df_person[df_person['person_id'] == person_id]\n",
    "    return df_medical_data, person_df"
   ],
   "metadata": {
    "collapsed": false
   },
   "id": "62b77f4e6d22a5d7"
  },
  {
   "cell_type": "code",
   "execution_count": null,
   "outputs": [],
   "source": [
    "def plot_person_timeline(person, event_data):\n",
    "    person_birth_datetime = person.iloc[0]['birth_datetime']\n",
    "    person_id = person.iloc[0]['person_id']\n",
    "\n",
    "    event_data['start_datetime'] = pd.to_datetime(event_data['start_datetime'])\n",
    "    event_data['age'] = (event_data['start_datetime'] - person_birth_datetime).dt.days / 365.25\n",
    "\n",
    "    event_types = event_data['source_value'].unique()\n",
    "\n",
    "    plt.figure(figsize=(35, 20))\n",
    "\n",
    "    for event_type in event_types:\n",
    "        events_of_type = event_data[event_data['source_value'] == event_type]\n",
    "        plt.scatter(\n",
    "            events_of_type['age'],\n",
    "            [event_type] * len(events_of_type),\n",
    "            label=event_type,\n",
    "            s=100\n",
    "        )\n",
    "\n",
    "    plt.xlabel(\"Age (years)\")\n",
    "    plt.ylabel(\"Concepts\")\n",
    "    plt.grid(False)\n",
    "    plt.legend(loc='upper center', bbox_to_anchor=(0.5, 1.17), ncol=7)\n",
    "\n",
    "    plt.xticks(ticks=range(int(event_data['age'].min()), int(event_data['age'].max()) + 1, 1), labels=[''] * len(range(int(event_data['age'].min()), int(event_data['age'].max()) + 1, 1)))\n",
    "    plt.yticks(ticks=[])\n",
    "    \n",
    "    folder_path = '../output_files/person_timeline_plots'\n",
    "    if not os.path.exists(folder_path):\n",
    "        os.makedirs(folder_path)\n",
    "\n",
    "    plot_title = \"person_timeline_id_\" + str(person_id) + \".png\"\n",
    "    save_path = os.path.join(folder_path, plot_title)\n",
    "    plt.savefig(save_path)\n",
    "\n",
    "    plt.show()"
   ],
   "metadata": {
    "collapsed": false
   },
   "id": "af47bdd158257a7b"
  },
  {
   "cell_type": "code",
   "execution_count": null,
   "outputs": [],
   "source": [
    "def plot_person_timeline_generalized(person, event_data):\n",
    "    person_birth_datetime = person.iloc[0]['birth_datetime']\n",
    "    person_id = person.iloc[0]['person_id']\n",
    "\n",
    "    event_data['start_datetime'] = pd.to_datetime(event_data['start_datetime'])\n",
    "    event_data['age'] = (event_data['start_datetime'] - person_birth_datetime).dt.days / 365.25\n",
    "\n",
    "    event_types = event_data['event_type'].unique()\n",
    "\n",
    "    plt.figure(figsize=(20, 10))\n",
    "\n",
    "    for event_type in event_types:\n",
    "        events_of_type = event_data[event_data['event_type'] == event_type]\n",
    "        plt.scatter(\n",
    "            events_of_type['age'],\n",
    "            [event_type] * len(events_of_type),\n",
    "            label=event_type,\n",
    "            s=100\n",
    "        )\n",
    "\n",
    "    plt.xlabel(\"Age (years)\")\n",
    "    plt.ylabel(\"Concepts\")\n",
    "\n",
    "    plt.grid(True, linestyle='--', linewidth=0.5)\n",
    "\n",
    "    plt.legend(loc='upper center', bbox_to_anchor=(0.5, 1.19), ncol=5)\n",
    "\n",
    "    plt.xticks(ticks=range(int(event_data['age'].min()), int(event_data['age'].max()) + 1, 1), labels=[''] * len(range(int(event_data['age'].min()), int(event_data['age'].max()) + 1, 1)))\n",
    "    \n",
    "    folder_path = '../output_files/person_timeline_plots'\n",
    "    if not os.path.exists(folder_path):\n",
    "        os.makedirs(folder_path)\n",
    "\n",
    "    plot_title = \"generalized_person_timeline_id_\" + str(person_id) + \".png\"\n",
    "    save_path = os.path.join(folder_path, plot_title)\n",
    "    plt.savefig(save_path)\n",
    "\n",
    "    plt.show()"
   ],
   "metadata": {
    "collapsed": false
   },
   "id": "65b028ad6fb7e49b"
  },
  {
   "cell_type": "code",
   "execution_count": null,
   "outputs": [],
   "source": [
    "def get_medical_label_by_concept_id(concept_id):\n",
    "    concept_id = int(concept_id)\n",
    "    concept_labels = df_concept.loc[df_concept['concept_id'] == concept_id, 'concept_name'].values\n",
    "    if len(concept_labels) > 0:\n",
    "        return concept_labels[0][:50]\n",
    "    else:\n",
    "        return \"\""
   ],
   "metadata": {
    "collapsed": false
   },
   "id": "693390c5b215c502"
  },
  {
   "cell_type": "code",
   "execution_count": null,
   "outputs": [],
   "source": [
    "def plot_initial_and_generalised_view(person_id):\n",
    "    df_medical_data, person_df = get_person_dataset(person_id)\n",
    "    df_medical_data = df_medical_data.drop(0)\n",
    "    plot_person_timeline(person_df, df_medical_data)\n",
    "    df_events = pd.DataFrame({'start_datetime': generalized_timeline[0], 'event_type': generalized_timeline[1]})\n",
    "    plot_person_timeline_generalized(person_df, df_events)"
   ],
   "metadata": {
    "collapsed": false
   },
   "id": "5c4454eb8fa9cd7a"
  }
 ],
 "metadata": {
  "kernelspec": {
   "display_name": "Python 3",
   "language": "python",
   "name": "python3"
  },
  "language_info": {
   "codemirror_mode": {
    "name": "ipython",
    "version": 2
   },
   "file_extension": ".py",
   "mimetype": "text/x-python",
   "name": "python",
   "nbconvert_exporter": "python",
   "pygments_lexer": "ipython2",
   "version": "2.7.6"
  }
 },
 "nbformat": 4,
 "nbformat_minor": 5
}
