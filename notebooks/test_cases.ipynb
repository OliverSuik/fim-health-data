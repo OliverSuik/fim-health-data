{
 "cells": [
  {
   "cell_type": "markdown",
   "source": [
    "## Test cases\n",
    "\n",
    "Usage:\n",
    "- define list of concepts\n",
    "- run cells"
   ],
   "metadata": {
    "collapsed": false
   },
   "id": "93246a8d0fe01aa4"
  },
  {
   "cell_type": "code",
   "execution_count": 10,
   "id": "initial_id",
   "metadata": {
    "collapsed": true,
    "ExecuteTime": {
     "end_time": "2024-05-14T13:25:16.724633Z",
     "start_time": "2024-05-14T13:25:16.721547Z"
    }
   },
   "outputs": [],
   "source": [
    "uc_1 = ['44', '45', '46', '7']\n",
    "uc_2 = ['2', '23', '25', '26']\n",
    "uc_3 = ['21', '22', '3']"
   ]
  },
  {
   "cell_type": "code",
   "execution_count": 11,
   "outputs": [
    {
     "name": "stdout",
     "output_type": "stream",
     "text": [
      "Stored 'use_case_list' (list)\n"
     ]
    }
   ],
   "source": [
    "use_case_list = [uc_1, uc_2, uc_3]\n",
    "%store use_case_list"
   ],
   "metadata": {
    "collapsed": false,
    "ExecuteTime": {
     "end_time": "2024-05-14T13:25:18.187183Z",
     "start_time": "2024-05-14T13:25:18.184133Z"
    }
   },
   "id": "91dd8073d5e46eaf"
  }
 ],
 "metadata": {
  "kernelspec": {
   "display_name": "Python 3",
   "language": "python",
   "name": "python3"
  },
  "language_info": {
   "codemirror_mode": {
    "name": "ipython",
    "version": 2
   },
   "file_extension": ".py",
   "mimetype": "text/x-python",
   "name": "python",
   "nbconvert_exporter": "python",
   "pygments_lexer": "ipython2",
   "version": "2.7.6"
  }
 },
 "nbformat": 4,
 "nbformat_minor": 5
}
